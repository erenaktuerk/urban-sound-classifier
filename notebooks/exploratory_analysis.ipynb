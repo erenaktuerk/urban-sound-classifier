{
 "cells": [
  {
   "cell_type": "code",
   "execution_count": null,
   "id": "1252ca50",
   "metadata": {
    "vscode": {
     "languageId": "plaintext"
    }
   },
   "outputs": [],
   "source": [
    "# notebooks/exploratory_analysis.ipynb\n",
    "\n",
    "\"\"\"\n",
    "## Exploratory Analysis - UrbanSound8K\n",
    "\n",
    "This notebook is for inspecting audio data and extracted features.\n",
    "\"\"\"\n",
    "\n",
    "import librosa\n",
    "import librosa.display\n",
    "import matplotlib.pyplot as plt\n",
    "import numpy as np\n",
    "import os\n",
    "\n",
    "file_path = \"../data/raw/example.wav\"\n",
    "\n",
    "# Load audio\n",
    "audio, sr = librosa.load(file_path)\n",
    "print(f\"Sample Rate: {sr}, Audio Shape: {audio.shape}\")\n",
    "\n",
    "# Waveform\n",
    "plt.figure(figsize=(10, 3))\n",
    "librosa.display.waveshow(audio, sr=sr)\n",
    "plt.title(\"Waveform\")\n",
    "plt.show()\n",
    "\n",
    "# Spectrogram\n",
    "plt.figure(figsize=(10, 4))\n",
    "X = librosa.stft(audio)\n",
    "Xdb = librosa.amplitude_to_db(abs(X))\n",
    "librosa.display.specshow(Xdb, sr=sr, x_axis='time', y_axis='hz')\n",
    "plt.colorbar()\n",
    "plt.title(\"Spectrogram\")\n",
    "plt.show()\n",
    "\n",
    "# MFCC\n",
    "mfccs = librosa.feature.mfcc(y=audio, sr=sr, n_mfcc=13)\n",
    "plt.figure(figsize=(10, 4))\n",
    "librosa.display.specshow(mfccs, x_axis='time')\n",
    "plt.colorbar()\n",
    "plt.title(\"MFCC\")\n",
    "plt.show()"
   ]
  }
 ],
 "metadata": {
  "language_info": {
   "name": "python"
  }
 },
 "nbformat": 4,
 "nbformat_minor": 5
}
